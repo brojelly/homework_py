{
 "cells": [
  {
   "cell_type": "markdown",
   "metadata": {},
   "source": [
    "<span style=\"font-size:100%\">\n",
    "\n",
    "수업은 모두 열심히 들으셨나요?\n",
    "\n",
    "간혹 강의에서 언급되지 않은 내용이 문제로 나올 수 있습니다.<br>\n",
    "그럴땐 강의 내용 외 문제는 구글링을 통해 해결해주세요<br></span>\n",
    "<span style=\"font-size:80%\">\n",
    "(구글링 또한 개발자가 갖쳐야할 역량 중에 하나랍니다 😊)\n",
    "</span>\n",
    "\n",
    "---"
   ]
  },
  {
   "cell_type": "markdown",
   "metadata": {},
   "source": [
    "<span style=\"font-size:80%\">[문제1]<br><br></span>\n",
    "```인터프리트 방식에 대해 설명하고 2개 이상의 장점을 설명해주세요```"
   ]
  },
  {
   "cell_type": "markdown",
   "metadata": {},
   "source": [
    "<span style=\"color:red\">답변</span>"
   ]
  },
  {
   "cell_type": "markdown",
   "metadata": {},
   "source": [
    "인터프리트 (interpret) 방식이란 소스 코드를 한줄씩읽고 실행하는 방식의 프로그래밍 언어 실행 방법이다.\n",
    "\n",
    "한번에 번역한 후 실행하는 컴파일 방식과는 다르게 한 줄씩 해석하며 바로 실행하는특징이 있다"
   ]
  },
  {
   "cell_type": "markdown",
   "metadata": {},
   "source": [
    "장점\n",
    "1. 즉각적인 실행 가능 (빠른 테스트 및 디버깅)\n",
    "- 코드를 한줄씩 실행하기 때문에 빠르게 테스트 가능\n",
    "- 에러가 발생하면 프로그램 전체를 다시 컴파일 할 필요 없이 바로 수정후 다시 실행 할수 있음.\n",
    "-예를 들어, Python에서는 한 줄씩 실행하는 REPL(Read-Eval-Print Loop) 환경을 제공하여 빠르게 코드 실행이 가능합니다.\n",
    "\n",
    "2. 플랫폼 독립성 (운영체제 상관없이 실행 가능)\n",
    "- 컴파일 방식은 os 마다 다르게 컴파일 해야 하지만, 인터프리트 방식은 별도의 컴파일과정 없이 다양한  os 에서 실행할수 있습니다.\n",
    "\n",
    "print(\"이 코드는 Windows, macOS, Linux 어디서든 실행됩니다!\")\n",
    "\n"
   ]
  },
  {
   "cell_type": "markdown",
   "metadata": {},
   "source": [
    "---"
   ]
  },
  {
   "cell_type": "markdown",
   "metadata": {},
   "source": [
    "<span style=\"font-size:80%\">[문제2]<br><br></span>\n",
    "```동적 타입 방식의 장점과 단점을 간략히 설명해주세요```"
   ]
  },
  {
   "cell_type": "markdown",
   "metadata": {},
   "source": [
    "<span style=\"color:red\">답변</span>"
   ]
  },
  {
   "cell_type": "markdown",
   "metadata": {},
   "source": [
    "📌 동적 타입 방식이란?\n",
    "동적 타입(Dynamic Typing) 방식은 변수를 선언할 때 데이터 타입을 명시하지 않아도 되는 방식입니다.\n",
    "(Python, JavaScript, Ruby 등에서 사용)\n",
    "\n",
    "✅ 동적 타입 방식의 장점\n",
    "\n",
    "1️⃣ 코드 작성이 간결하고 개발 속도가 빠름\n",
    "\n",
    "타입 선언이 필요 없으므로 코드가 짧아지고 가독성이 좋아짐.\n",
    "빠르게 프로토타이핑 가능.\n",
    "\n",
    "2️⃣ 유연성 (다양한 데이터 타입을 쉽게 변경 가능)\n",
    "\n",
    "같은 변수에 다양한 타입을 할당할 수 있어 유연한 코딩이 가능.\n",
    "\n",
    "\n",
    "\n",
    "❌ 동적 타입 방식의 단점\n",
    "\n",
    "\n",
    "1️⃣ 런타임 에러 발생 가능성 증가\n",
    "\n",
    "타입 검사가 실행 중에 이루어지므로, 예상치 못한 타입 관련 오류가 발생할 수 있음.\n",
    "\n",
    "\n",
    "2️⃣ 성능 저하 가능성\n",
    "\n",
    "타입을 실행 중에 결정해야 하므로, 정적 타입 언어(C, Java 등)보다 실행 속도가 느릴 수 있음.\n"
   ]
  },
  {
   "cell_type": "markdown",
   "metadata": {},
   "source": [
    "---"
   ]
  },
  {
   "cell_type": "markdown",
   "metadata": {},
   "source": [
    "<span style=\"font-size:80%\">[문제3]<br><br></span>\n",
    "```Python으로 정적타입 방식의 코드를 작성할 수 있는 방법을 구글링을 통해 검색 후 설명해주세요```"
   ]
  },
  {
   "cell_type": "markdown",
   "metadata": {},
   "source": [
    "<span style=\"color:red\">답변</span>"
   ]
  },
  {
   "cell_type": "markdown",
   "metadata": {},
   "source": [
    "파이썬은 기본적으로 동적 타입 언어이지만, 타입 힌트(type hint) MyPy 같은 정적 분석 도구를 사용하면 정적 타입 방식처럼 작성할수 있다.\n",
    "\n",
    "def add(x: int, y: int) -> int:\n",
    "    return x + y\n",
    "\n",
    "result: int = add(5, 3)  # result는 int 타입이어야 함\n",
    "print(result)\n",
    "\n",
    "📌 x: int, y: int → x와 y는 **정수형(int)**이어야 함\n",
    "📌 -> int → 함수 반환 값도 **정수형(int)**이어야 함\n",
    "\n",
    "✅ 장점:\n",
    "\n",
    "코드 가독성이 향상되고, IDE에서 타입 오류를 미리 감지 가능\n",
    "개발자가 타입을 예측하기 쉬워짐\n"
   ]
  },
  {
   "cell_type": "markdown",
   "metadata": {},
   "source": [
    "---"
   ]
  },
  {
   "cell_type": "markdown",
   "metadata": {},
   "source": [
    "<span style=\"font-size:80%\">[문제4]<br><br></span>\n",
    "```프로세스와 스레드의 차이점을 설명해주세요```"
   ]
  },
  {
   "cell_type": "markdown",
   "metadata": {},
   "source": [
    "<span style=\"color:red\">답변</span>"
   ]
  },
  {
   "cell_type": "markdown",
   "metadata": {},
   "source": [
    "| 구분    | 프로세스(Process) | 스레드(Thread) |\n",
    "|---------|-----------------|---------------|\n",
    "| 실행 단위 | 독립적인 프로그램 | 프로세스 내부의 실행 흐름 |\n",
    "| 메모리  | 독립된 메모리 사용 | 프로세스 내에서 메모리 공유 |\n",
    "| 속도    | 생성 비용이 크고 느림 | 가볍고 빠름 |\n",
    "| 데이터 공유 | IPC 필요 | 같은 프로세스 내에서 공유 가능 |\n",
    "| 오류 영향 | 다른 프로세스에 영향 없음 | 하나의 스레드 오류가 전체 프로세스에 영향을 줄 수 있음 |\n"
   ]
  },
  {
   "cell_type": "markdown",
   "metadata": {},
   "source": [
    "---"
   ]
  },
  {
   "cell_type": "markdown",
   "metadata": {},
   "source": [
    "<span style=\"font-size:80%\">[문제5]<br><br></span>\n",
    "```Python 2버전대와 3버전대의 차이를 성명해주세요```"
   ]
  },
  {
   "cell_type": "markdown",
   "metadata": {},
   "source": [
    "<span style=\"color:red\">답변</span>"
   ]
  },
  {
   "cell_type": "markdown",
   "metadata": {},
   "source": [
    "| 구분          | Python 2.x | Python 3.x |\n",
    "|--------------|-----------|-----------|\n",
    "| 공식 지원 | 2020년 1월 지원 종료 | 현재 공식 지원 중 (최신 버전 유지) |\n",
    "| `print` 문법 | `print \"Hello\"` (괄호 없이 사용) | `print(\"Hello\")` (함수 형태) |\n",
    "| `input()` 함수 | `raw_input()` 사용 (`input()`은 `eval` 실행) | `input()` 사용 (안전하게 문자열 반환) |\n",
    "| 정수 나눗셈 | `5 / 2` → `2` (정수 나눗셈) | `5 / 2` → `2.5` (실수 나눗셈) |\n",
    "| `unicode` 문자열 | 기본 문자열이 `str` (ASCII) | 기본 문자열이 `str` (유니코드) |\n",
    "| `xrange()` 함수 | `xrange()` 사용 (메모리 효율적) | `range()`가 `xrange()` 기능 포함 |\n",
    "| 예외 처리 | `except Exception, e:` | `except Exception as e:` |\n",
    "| 지원 여부 | 지원 종료 (사용 비추천) | 최신 기능 및 보안 패치 제공 |\n"
   ]
  },
  {
   "cell_type": "markdown",
   "metadata": {},
   "source": [
    "---"
   ]
  },
  {
   "cell_type": "markdown",
   "metadata": {},
   "source": [
    "<span style=\"font-size:80%\">[문제6]<br><br></span>\n",
    "```Python에서 메모리 관리는 어떻게 이루어지는지 설명해주세요```"
   ]
  },
  {
   "cell_type": "markdown",
   "metadata": {},
   "source": [
    "<span style=\"color:red\">답변</span>"
   ]
  },
  {
   "cell_type": "markdown",
   "metadata": {},
   "source": [
    "| 메모리 관리 방식 | 설명 |\n",
    "|-----------------|--------------------------------------------------------------|\n",
    "| **참조 카운트 (Reference Counting)** | 객체를 참조하는 변수가 없으면 자동으로 메모리 해제 |\n",
    "| **가비지 컬렉터 (Garbage Collector, GC)** | 순환 참조된 객체를 찾아 자동으로 메모리를 정리 |\n",
    "| **메모리 풀링 (Small Object Allocation)** | 작은 객체(숫자, 문자열 등)를 캐싱하여 메모리 최적화 |\n",
    "| **GC 제어 (`gc` 모듈)** | `gc.collect()`를 사용하여 강제로 가비지 컬렉션 실행 가능 |\n",
    "| **메모리 최적화** | 불필요한 객체를 `del`로 삭제하거나 `gc.disable()`로 GC 제어 가능 |\n",
    "\n",
    "Python은 자동 메모리 관리 시스템을 제공하여 개발자가 직접 해제할 필요 없음\n",
    "\n",
    "\n",
    "참조 카운트 + 가비지 컬렉터(GC) + 메모리 풀링 기법으로 메모리를 효율적으로 관리\n",
    "\n",
    "\n",
    "필요한 경우 gc 모듈을 이용해 가비지 컬렉션을 수동 실행 가능"
   ]
  },
  {
   "cell_type": "markdown",
   "metadata": {},
   "source": []
  }
 ],
 "metadata": {
  "language_info": {
   "name": "python"
  }
 },
 "nbformat": 4,
 "nbformat_minor": 2
}
