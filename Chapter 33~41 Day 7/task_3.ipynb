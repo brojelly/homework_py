{
 "cells": [
  {
   "cell_type": "markdown",
   "metadata": {},
   "source": [
    "사용자로부터 여러 개의 숫자를 입력받아 리스트에 저장한 후, 사용자가 'done'이라고 입력할 때까지 계속 입력받으세요. \n",
    "\n",
    "- 입력 중 숫자가 아닌 값이 입력되면 ValueError를 처리\n",
    "- 숫자 외 값이 입력된 경우 어떤 값이 잘못 입력되었는지 사용자에게 알려주는 문구 출력<br>\n",
    "  (예: f\"잘못된 값: {변수}. 숫자를 입력해주세요.\")\n",
    "\n"
   ]
  },
  {
   "cell_type": "markdown",
   "metadata": {},
   "source": []
  },
  {
   "cell_type": "code",
   "execution_count": 1,
   "metadata": {},
   "outputs": [
    {
     "name": "stdout",
     "output_type": "stream",
     "text": [
      "파일을 찾을 수 없습니다.\n",
      "잘못된 값: dnoe. 숫자를 입력해주세요.\n",
      "잘못된 값: . 숫자를 입력해주세요.\n",
      "잘못된 값: . 숫자를 입력해주세요.\n",
      "잘못된 값: . 숫자를 입력해주세요.\n",
      "잘못된 값: . 숫자를 입력해주세요.\n",
      "잘못된 값: . 숫자를 입력해주세요.\n",
      "잘못된 값: . 숫자를 입력해주세요.\n",
      "잘못된 값: . 숫자를 입력해주세요.\n",
      "입력된 숫자 리스트: [1.0, 3.0, 2.0, 12345.0, 123.0]\n"
     ]
    }
   ],
   "source": [
    "def read_file(filename):\n",
    "    try:\n",
    "        with open(filename, 'r', encoding='utf-8') as file:\n",
    "            content = file.read()\n",
    "            print(content)\n",
    "    except FileNotFoundError:\n",
    "        print(\"파일을 찾을 수 없습니다.\")\n",
    "\n",
    "def get_numbers():\n",
    "    numbers = []\n",
    "    while True:\n",
    "        user_input = input(\"숫자를 입력하세요 ('done' 입력 시 종료): \")\n",
    "        if user_input.lower() == 'done':\n",
    "            break\n",
    "        try:\n",
    "            number = float(user_input)\n",
    "            numbers.append(number)\n",
    "        except ValueError:\n",
    "            print(f\"잘못된 값: {user_input}. 숫자를 입력해주세요.\")\n",
    "    print(\"입력된 숫자 리스트:\", numbers)\n",
    "\n",
    "if __name__ == \"__main__\":\n",
    "    filename = input(\"읽을 파일명을 입력하세요: \")\n",
    "    read_file(filename)\n",
    "    get_numbers()\n"
   ]
  }
 ],
 "metadata": {
  "kernelspec": {
   "display_name": "Python 3",
   "language": "python",
   "name": "python3"
  },
  "language_info": {
   "codemirror_mode": {
    "name": "ipython",
    "version": 3
   },
   "file_extension": ".py",
   "mimetype": "text/x-python",
   "name": "python",
   "nbconvert_exporter": "python",
   "pygments_lexer": "ipython3",
   "version": "3.13.1"
  }
 },
 "nbformat": 4,
 "nbformat_minor": 2
}
