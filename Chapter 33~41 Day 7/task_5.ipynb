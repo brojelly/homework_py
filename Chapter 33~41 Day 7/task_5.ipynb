{
 "cells": [
  {
   "cell_type": "markdown",
   "metadata": {},
   "source": [
    "datetime 모듈을 사용하여 현재 날짜와 시간을 출력하는 프로그램을 작성하세요. \n",
    "\n",
    "또한, 사용자로부터 태어난 년도를 입력받아 현재 나이를 계산하여 출력하세요."
   ]
  },
  {
   "cell_type": "code",
   "execution_count": 1,
   "metadata": {},
   "outputs": [
    {
     "name": "stdout",
     "output_type": "stream",
     "text": [
      "현재 날짜와 시간: 2025-03-14 14:01:54\n",
      "현재 나이: 35세\n"
     ]
    }
   ],
   "source": [
    "from datetime import datetime\n",
    "\n",
    "def display_current_datetime():\n",
    "    now = datetime.now()\n",
    "    print(\"현재 날짜와 시간:\", now.strftime(\"%Y-%m-%d %H:%M:%S\"))\n",
    "\n",
    "def calculate_age():\n",
    "    try:\n",
    "        birth_year = int(input(\"태어난 년도를 입력하세요: \"))\n",
    "        current_year = datetime.now().year\n",
    "        age = current_year - birth_year\n",
    "        print(f\"현재 나이: {age}세\")\n",
    "    except ValueError:\n",
    "        print(\"올바른 숫자를 입력해주세요.\")\n",
    "\n",
    "if __name__ == \"__main__\":\n",
    "    display_current_datetime()\n",
    "    calculate_age()\n"
   ]
  }
 ],
 "metadata": {
  "kernelspec": {
   "display_name": "Python 3",
   "language": "python",
   "name": "python3"
  },
  "language_info": {
   "codemirror_mode": {
    "name": "ipython",
    "version": 3
   },
   "file_extension": ".py",
   "mimetype": "text/x-python",
   "name": "python",
   "nbconvert_exporter": "python",
   "pygments_lexer": "ipython3",
   "version": "3.13.1"
  }
 },
 "nbformat": 4,
 "nbformat_minor": 2
}
