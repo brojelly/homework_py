{
 "cells": [
  {
   "cell_type": "markdown",
   "metadata": {},
   "source": [
    "여러분이 자주 사용하는 수학적 연산<br>\n",
    "(예: 삼각형 넓이, 원의 넓이, 직육면체의 넓이)을 수행하는 함수들을 포함하는 mymath.py라는 이름의 모듈을 만드세요. \n",
    "\n",
    "이 모듈을 사용하여 작성된 함수들을 실제로 임포트하고 사용하는 간단한 프로그램을 작성하세요."
   ]
  },
  {
   "cell_type": "markdown",
   "metadata": {},
   "source": []
  },
  {
   "cell_type": "code",
   "execution_count": 12,
   "metadata": {},
   "outputs": [],
   "source": [
    "\n",
    "import mymath\n",
    "\n",
    "if __name__ == \"task_8.ipynb\":\n",
    "    # 삼각형 넓이 계산\n",
    "    base = float(input(\"삼각형 밑변 입력: \"))\n",
    "    height = float(input(\"삼각형 높이 입력: \"))\n",
    "    print(f\"삼각형의 넓이: {mymath.triangle_area(base, height)}\")\n",
    "\n",
    "    # 원의 넓이 계산\n",
    "    radius = float(input(\"원의 반지름 입력: \"))\n",
    "    print(f\"원의 넓이: {mymath.circle_area(radius)}\")\n",
    "\n",
    "    # 직육면체의 넓이 계산\n",
    "    length = float(input(\"직육면체 길이 입력: \"))\n",
    "    width = float(input(\"직육면체 너비 입력: \"))\n",
    "    height = float(input(\"직육면체 높이 입력: \"))\n",
    "    print(f\"직육면체의 겉넓이: {mymath.rectangular_prism_area(length, width, height)}\")"
   ]
  }
 ],
 "metadata": {
  "kernelspec": {
   "display_name": "Python 3",
   "language": "python",
   "name": "python3"
  },
  "language_info": {
   "codemirror_mode": {
    "name": "ipython",
    "version": 3
   },
   "file_extension": ".py",
   "mimetype": "text/x-python",
   "name": "python",
   "nbconvert_exporter": "python",
   "pygments_lexer": "ipython3",
   "version": "3.13.1"
  }
 },
 "nbformat": 4,
 "nbformat_minor": 2
}
