{
 "cells": [
  {
   "cell_type": "markdown",
   "metadata": {},
   "source": [
    "<span style=\"font-size:100%\">\n",
    "\n",
    "수업은 모두 열심히 들으셨나요?\n",
    "\n",
    "간혹 강의에서 언급되지 않은 내용이 문제로 나올 수 있습니다.<br>\n",
    "그럴땐 강의 내용 외 문제는 구글링을 통해 해결해주세요<br></span>\n",
    "<span style=\"font-size:80%\">\n",
    "(구글링 또한 개발자가 갖쳐야할 역량 중에 하나랍니다 😊)\n",
    "</span>\n",
    "\n",
    "---"
   ]
  },
  {
   "cell_type": "markdown",
   "metadata": {},
   "source": [
    "<span style=\"font-size:80%\">[문제1]<br><br></span>\n",
    "```주로 작성 중인 코드의 끝을 알리는 기호로 사용되며 파이썬에서 한 줄에 작성된 서로 다른 코드를 구분 지을 때 사용할 수 있는 기호를 골라주세요```\n",
    "\n",
    "1. ' , ' (쉼표)\n",
    "2. ' + ' (더하기 기호)\n",
    "3. ' ; ' (세미콜론)\n",
    "4. ' / ' (슬래시)"
   ]
  },
  {
   "cell_type": "markdown",
   "metadata": {},
   "source": [
    "<span style=\"color:red\">답변</span> :"
   ]
  },
  {
   "cell_type": "markdown",
   "metadata": {},
   "source": [
    "3\n"
   ]
  },
  {
   "cell_type": "markdown",
   "metadata": {},
   "source": [
    "----"
   ]
  },
  {
   "cell_type": "markdown",
   "metadata": {},
   "source": [
    "<span style=\"font-size:80%\">[문제2]<br><br></span>\n",
    "```Python의 PEP 8은 무엇인지 설명하고 PEP 8의 핵심적인 규칙을 1개 이상을 설명해주세요```"
   ]
  },
  {
   "cell_type": "markdown",
   "metadata": {},
   "source": [
    "<span style=\"color:red\">답변</span>"
   ]
  },
  {
   "cell_type": "markdown",
   "metadata": {},
   "source": [
    "PEP 8(Python Enhancement Proposal 8) 은 Python 코드 스타일 가이드라인으로, Python 코드의 일관성과 가독성을 높이기 위한 스타일 규칙을 정의한 문서입니다.\n",
    "Python을 만든 Guido van Rossum과 Python 커뮤니티에서 제안하여 Python 코드를 더 깔끔하고 유지보수하기 쉽게 만들기 위해 권장하는 스타일 가이드입니다.\n",
    "\n",
    "\n",
    "| 규칙 | 설명 |\n",
    "|------|------------------------------------------------|\n",
    "| **들여쓰기** | **스페이스 4칸 사용 (탭 금지)** |\n",
    "| **변수 및 함수명** | `snake_case` 사용 (`user_name`, `get_user_info()`) |\n",
    "| **클래스명** | `PascalCase` 사용 (`UserProfile`) |\n",
    "| **줄 길이 제한** | 한 줄 **최대 79자** (긴 줄은 줄 바꿈) |\n",
    "| **공백 사용** | 연산자 앞뒤 공백 추가, 괄호 안쪽 공백 X |\n",
    "| **세미콜론 (`;`) 금지** | Python은 줄 끝 세미콜론 필요 없음 |\n"
   ]
  },
  {
   "cell_type": "markdown",
   "metadata": {},
   "source": [
    "----"
   ]
  },
  {
   "cell_type": "markdown",
   "metadata": {},
   "source": [
    "<span style=\"font-size:80%\">[문제3]<br><br></span>\n",
    "```Python에서 \"#\"이 의마하는 것은 무엇인지 설명해주세요```"
   ]
  },
  {
   "cell_type": "markdown",
   "metadata": {},
   "source": [
    "<span style=\"color:red\">답변</span>"
   ]
  },
  {
   "cell_type": "markdown",
   "metadata": {},
   "source": [
    "주석"
   ]
  },
  {
   "cell_type": "markdown",
   "metadata": {},
   "source": [
    "----"
   ]
  },
  {
   "cell_type": "markdown",
   "metadata": {},
   "source": [
    "<span style=\"font-size:80%\">[문제4]<br><br></span>\n",
    "```Python의 들여쓰기 장점과 기능에 대해 설명해주세요```"
   ]
  },
  {
   "cell_type": "markdown",
   "metadata": {},
   "source": [
    "<span style=\"color:red\">답변</span>"
   ]
  },
  {
   "cell_type": "markdown",
   "metadata": {},
   "source": [
    "| **장점** | **설명** |\n",
    "|------|----------------------------------|\n",
    "| **가독성 향상** | 들여쓰기로 코드 블록이 명확하게 보임 |\n",
    "| **문법이 단순하고 오류 방지 가능** | 중괄호 `{}` 없이 코드 구조를 쉽게 파악 |\n",
    "| **협업 및 유지보수에 유리함** | 코드 스타일이 통일되어 협업이 쉬움 |\n"
   ]
  },
  {
   "cell_type": "markdown",
   "metadata": {},
   "source": [
    "----"
   ]
  },
  {
   "cell_type": "markdown",
   "metadata": {},
   "source": [
    "<span style=\"font-size:80%\">[문제5]<br><br></span>\n",
    "```print( )문의 기능 및 특징에 대해 설명해주세요```"
   ]
  },
  {
   "cell_type": "markdown",
   "metadata": {},
   "source": [
    "<span style=\"color:red\">답변</span>"
   ]
  },
  {
   "cell_type": "markdown",
   "metadata": {},
   "source": [
    "| **기능** | **설명** |\n",
    "|------|--------------------------------|\n",
    "| **기본 출력** | 문자열, 숫자, 리스트 등 다양한 데이터 출력 가능 |\n",
    "| **여러 값 출력** | 쉼표(`,`)를 사용하여 여러 개의 값을 출력할 수 있음 |\n",
    "| **출력 값 사이 구분 (`sep`)** | `sep` 매개변수를 사용해 값 사이의 구분자 지정 가능 |\n",
    "| **출력 후 줄바꿈 변경 (`end`)** | `end` 매개변수를 사용해 줄바꿈 없이 출력 가능 |\n",
    "| **파일 출력 (`file`)** | `file` 매개변수를 사용하여 출력 결과를 파일로 저장 가능 |\n",
    "| **포맷팅 출력** | `format()` 또는 `f-string`을 사용해 가독성 높은 출력 가능 |\n"
   ]
  },
  {
   "cell_type": "markdown",
   "metadata": {},
   "source": []
  }
 ],
 "metadata": {
  "language_info": {
   "name": "python"
  }
 },
 "nbformat": 4,
 "nbformat_minor": 2
}
