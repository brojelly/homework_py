{
 "cells": [
  {
   "cell_type": "markdown",
   "metadata": {},
   "source": [
    "사용자로부터 3개의 숫자를 입력받아, 이를 튜플로 만든 후 최소값과 최대값을 출력하는 함수 min_max를 작성하세요."
   ]
  },
  {
   "cell_type": "code",
   "execution_count": 1,
   "metadata": {},
   "outputs": [
    {
     "name": "stdout",
     "output_type": "stream",
     "text": [
      "입력한 숫자: (1, 2, 3)\n",
      "최소값: 1, 최대값: 3\n"
     ]
    }
   ],
   "source": [
    "def min_max():\n",
    "    # 사용자로부터 3개의 숫자 입력받기\n",
    "    a = int(input(\"첫 번째 숫자를 입력하세요: \"))\n",
    "    b = int(input(\"두 번째 숫자를 입력하세요: \"))\n",
    "    c = int(input(\"세 번째 숫자를 입력하세요: \"))\n",
    "\n",
    "    # 튜플로 묶기\n",
    "    numbers = (a, b, c)\n",
    "\n",
    "    # 최소값과 최대값 구하기\n",
    "    min_value = min(numbers)\n",
    "    max_value = max(numbers)\n",
    "\n",
    "    # 결과 출력\n",
    "    print(f\"입력한 숫자: {numbers}\")\n",
    "    print(f\"최소값: {min_value}, 최대값: {max_value}\")\n",
    "\n",
    "# 함수 실행\n",
    "min_max()"
   ]
  }
 ],
 "metadata": {
  "kernelspec": {
   "display_name": "Python 3",
   "language": "python",
   "name": "python3"
  },
  "language_info": {
   "codemirror_mode": {
    "name": "ipython",
    "version": 3
   },
   "file_extension": ".py",
   "mimetype": "text/x-python",
   "name": "python",
   "nbconvert_exporter": "python",
   "pygments_lexer": "ipython3",
   "version": "3.13.1"
  }
 },
 "nbformat": 4,
 "nbformat_minor": 2
}
