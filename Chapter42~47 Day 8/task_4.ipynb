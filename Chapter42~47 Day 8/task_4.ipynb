{
 "cells": [
  {
   "cell_type": "markdown",
   "metadata": {},
   "source": [
    "[문제] \n",
    "\n",
    "'Employee' 클래스를 선언하세요. \n",
    "\n",
    "이 클래스는 월급인상률을 의미하는 클래스 변수로 'raise_amount'를 갖고 있으며, 기본값은 1.04입니다. 다음 급여는 기본 급여에 월급인상률을 곱한 값으로 결정합니다.\n",
    "\n",
    "또한, 각 직원의 이름(name)과 급여(salary)를 속성으로 가지며, 'apply_raise' 메소드를 통해 급여에 'raise_amount'를 적용할 수 있어야 합니다.\n",
    "\n",
    "'Employee' 클래스의 객체 두 개를 생성하고, 한 객체에만 'raise_amount'를 변경한 후, 두 객체의 급여를 증가시켜보세요.<br>\n",
    "그리고 각 객체의 새로운 급여를 출력하세요."
   ]
  },
  {
   "cell_type": "markdown",
   "metadata": {},
   "source": []
  },
  {
   "cell_type": "code",
   "execution_count": 1,
   "metadata": {},
   "outputs": [
    {
     "name": "stdout",
     "output_type": "stream",
     "text": [
      "김철수의 새로운 급여: 52000원\n",
      "이영희의 새로운 급여: 63600원\n"
     ]
    }
   ],
   "source": [
    "class Employee:\n",
    "    raise_amount = 1.04  # 클래스 변수 (기본 월급 인상률 4%)\n",
    "\n",
    "    def __init__(self, name, salary):  # 생성자\n",
    "        self.name = name  # 이름 속성\n",
    "        self.salary = salary  # 급여 속성\n",
    "\n",
    "    def apply_raise(self):  # 급여 인상 메서드\n",
    "        self.salary *= self.raise_amount  # 현재 인스턴스의 raise_amount 적용\n",
    "\n",
    "# 직원 두 명 생성\n",
    "emp1 = Employee(\"김철수\", 50000)\n",
    "emp2 = Employee(\"이영희\", 60000)\n",
    "\n",
    "# emp2의 인상률을 변경 (개별 인스턴스의 변수로 설정)\n",
    "emp2.raise_amount = 1.06  # 6% 인상\n",
    "\n",
    "# 급여 인상 적용\n",
    "emp1.apply_raise()  # 기본 인상률 4%\n",
    "emp2.apply_raise()  # emp2는 6% 인상\n",
    "\n",
    "# 결과 출력\n",
    "print(f\"{emp1.name}의 새로운 급여: {int(emp1.salary)}원\")\n",
    "print(f\"{emp2.name}의 새로운 급여: {int(emp2.salary)}원\")"
   ]
  },
  {
   "cell_type": "markdown",
   "metadata": {},
   "source": []
  }
 ],
 "metadata": {
  "kernelspec": {
   "display_name": "Python 3",
   "language": "python",
   "name": "python3"
  },
  "language_info": {
   "codemirror_mode": {
    "name": "ipython",
    "version": 3
   },
   "file_extension": ".py",
   "mimetype": "text/x-python",
   "name": "python",
   "nbconvert_exporter": "python",
   "pygments_lexer": "ipython3",
   "version": "3.13.1"
  }
 },
 "nbformat": 4,
 "nbformat_minor": 2
}
