{
 "cells": [
  {
   "cell_type": "markdown",
   "metadata": {},
   "source": [
    "[문제]\n",
    "\n",
    "'Account' 클래스를 작성하세요. \n",
    "\n",
    "이 클래스는 소유자(owner)와 잔액(balance)을 속성으로 가지며, 잔액은 프라이빗 변수로 선언합니다. \n",
    "\n",
    "'deposit'와 'withdraw' 두 개의 메소드를 통해 잔액을 조작할 수 있도록 하세요. \n",
    "\n",
    "이 때, 잔액은 음수가 될 수 없도록 체크해야 합니다. 'Account' 객체를 생성하고,<br>\n",
    "입금 및 출금 작업을 시뮬레이션한 후, 최종 잔액을 출력하세요."
   ]
  },
  {
   "cell_type": "code",
   "execution_count": 1,
   "metadata": {},
   "outputs": [
    {
     "name": "stdout",
     "output_type": "stream",
     "text": [
      "50000원이 입금되었습니다. 현재 잔액: 150000원\n",
      "120000원이 출금되었습니다. 현재 잔액: 30000원\n",
      "30000원이 출금되었습니다. 현재 잔액: 0원\n",
      "최종 잔액: 0원\n"
     ]
    }
   ],
   "source": [
    "class Account:\n",
    "    def __init__(self, owner, balance):\n",
    "        self.owner = owner  # 소유자 속성\n",
    "        self.__balance = balance  # 프라이빗 잔액 속성 (외부 접근 불가)\n",
    "\n",
    "    def deposit(self, amount):  # 입금 메서드\n",
    "        if amount > 0:\n",
    "            self.__balance += amount\n",
    "            print(f\"{amount}원이 입금되었습니다. 현재 잔액: {self.__balance}원\")\n",
    "        else:\n",
    "            print(\"입금 금액은 0보다 커야 합니다.\")\n",
    "\n",
    "    def withdraw(self, amount):  # 출금 메서드\n",
    "        if amount > self.__balance:\n",
    "            print(f\"잔액이 부족합니다! 현재 잔액: {self.__balance}원\")\n",
    "        elif amount > 0:\n",
    "            self.__balance -= amount\n",
    "            print(f\"{amount}원이 출금되었습니다. 현재 잔액: {self.__balance}원\")\n",
    "        else:\n",
    "            print(\"출금 금액은 0보다 커야 합니다.\")\n",
    "\n",
    "    def get_balance(self):  # 잔액 조회 메서드\n",
    "        return self.__balance\n",
    "\n",
    "# 계좌 객체 생성 (소유자: 홍길동, 초기 잔액: 100000원)\n",
    "account = Account(\"홍길동\", 100000)\n",
    "\n",
    "# 입금 및 출금 시뮬레이션\n",
    "account.deposit(50000)  # +50,000원\n",
    "account.withdraw(120000)  # 잔액 부족 (출금 실패)\n",
    "account.withdraw(30000)  # -30,000원\n",
    "\n",
    "# 최종 잔액 출력\n",
    "print(f\"최종 잔액: {account.get_balance()}원\")"
   ]
  }
 ],
 "metadata": {
  "kernelspec": {
   "display_name": "Python 3",
   "language": "python",
   "name": "python3"
  },
  "language_info": {
   "codemirror_mode": {
    "name": "ipython",
    "version": 3
   },
   "file_extension": ".py",
   "mimetype": "text/x-python",
   "name": "python",
   "nbconvert_exporter": "python",
   "pygments_lexer": "ipython3",
   "version": "3.13.1"
  }
 },
 "nbformat": 4,
 "nbformat_minor": 2
}
